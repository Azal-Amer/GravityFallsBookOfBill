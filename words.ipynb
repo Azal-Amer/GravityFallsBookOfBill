{
 "cells": [
  {
   "cell_type": "code",
   "execution_count": null,
   "metadata": {},
   "outputs": [],
   "source": [
    "# Assuming the frequency list is in a file called 'frequency_list.txt'\n",
    "input_file = 'frequency_list.txt'\n",
    "output_file = 'top_10_percent.txt'\n",
    "\n",
    "# Read the list of words\n",
    "with open(input_file, 'r') as file:\n",
    "    lines = file.readlines()\n",
    "\n",
    "# Calculate the top 10% index\n",
    "top_10_percent_index = int(len(lines) * 0.1)\n",
    "\n",
    "# Extract the top 10%\n",
    "top_10_percent_words = lines[:top_10_percent_index]\n",
    "\n",
    "# Write to the output file\n",
    "with open(output_file, 'w') as file:\n",
    "    file.writelines(top_10_percent_words)\n",
    "\n",
    "print(f\"Top 10% words saved to {output_file}\")\n"
   ]
  },
  {
   "cell_type": "code",
   "execution_count": null,
   "metadata": {},
   "outputs": [],
   "source": []
  }
 ],
 "metadata": {
  "language_info": {
   "name": "python"
  }
 },
 "nbformat": 4,
 "nbformat_minor": 2
}
